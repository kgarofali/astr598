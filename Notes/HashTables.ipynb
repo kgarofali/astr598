{
 "cells": [
  {
   "cell_type": "markdown",
   "metadata": {},
   "source": [
    "# Hash Functions and Hash Tables \n",
    "\n",
    "If your hash code is different you are sure your things are different, and if your hash code is the same, you are almost certain the things are the same (i.e. git example). \n",
    "If h(x) = h(y) but x != y, then we have what we call a collision. \n",
    "\n",
    "key = (x1, x2, x3, x4)\n",
    "We want to map this whole thing to an integer. And then use that integer to index into an array. What if index is larger than table size, where do you index to? If this is the case then take your integer and do some modulus of table_size (table_size should be prime number). But if we do this then we could get two values of x that map to the same index. How do we handle this? So each time you get a duplicate add it to a linked list (use only as much memory as needed). So two basic ideas: use linked lists to resolve collisions and use mod table_size to fit in one dimensional array. This whole thing is called \"separate-chaining.\" When generating the hash function we also want to use a prime. \n"
   ]
  },
  {
   "cell_type": "markdown",
   "metadata": {},
   "source": [
    "\n",
    "```\n",
    "#calculate hash function, get integer, calculate modulo, go to one-dimensional array \n",
    "#and find where to put it. \n",
    "public long hash_code(){\n",
    "    \n",
    "    #think of x1,x2,x3,x4 as indices of multi-d array \n",
    "    #if int m[100][100][100][100] is original multi-dimensional array \n",
    "    #key_prime is least prime greater than 100, e.g. 101 \n",
    "    #you can think of h as representing integer in keyprime base \n",
    "    h = (x1*key_prime*key_prime*key_prime + x2*key_prime*key_prime* + x3*key_prime + x4);\n",
    "    return h;\n",
    "}\n",
    "\n",
    "boolean equal(key k1, key k2){\n",
    "    if(k1.x1 == k2.x1) && (k1.x2 == k2.x2) ... etc){\n",
    "        return True\n",
    "    }\n",
    "    else{\n",
    "        return False\n",
    "   }\n",
    "}\n",
    "\n",
    "class key{\n",
    "    int x1; \n",
    "    int x2;\n",
    "    int x3;\n",
    "    int x4;\n",
    "    \n",
    "}\n",
    "\n",
    "class value{\n",
    "    int v;\n",
    "}\n",
    "\n",
    "class Node{\n",
    "    key k;\n",
    "    value v;\n",
    "    Node next;\n",
    "}\n",
    "\n",
    "class hashtable{\n",
    "    void put(key k, value v);\n",
    "    value get(key k);\n",
    "}\n",
    "\n",
    "#i.e. put([1,2,3,6], 10)\n",
    "put(key,value){\n",
    "}\n",
    "#i.e. get([1,2,3,6])\n",
    "get(key){\n",
    "}\n",
    "\n",
    "```"
   ]
  },
  {
   "cell_type": "code",
   "execution_count": null,
   "metadata": {
    "collapsed": true
   },
   "outputs": [],
   "source": []
  }
 ],
 "metadata": {
  "kernelspec": {
   "display_name": "Python 2",
   "language": "python",
   "name": "python2"
  },
  "language_info": {
   "codemirror_mode": {
    "name": "ipython",
    "version": 2
   },
   "file_extension": ".py",
   "mimetype": "text/x-python",
   "name": "python",
   "nbconvert_exporter": "python",
   "pygments_lexer": "ipython2",
   "version": "2.7.11"
  }
 },
 "nbformat": 4,
 "nbformat_minor": 0
}
